{
 "cells": [
  {
   "cell_type": "code",
   "execution_count": 39,
   "id": "612da28a",
   "metadata": {},
   "outputs": [
    {
     "name": "stdout",
     "output_type": "stream",
     "text": [
      "Tier:     ['B', 'C', 'F', 'N']\n",
      "Grammar:  [('>', 'N'), ('C', 'F'), ('F', '<'), ('F', 'C'), ('C', '<'), ('C', 'B'), ('>', 'B'), ('C', 'C'), ('B', 'C'), ('>', 'F'), ('>', 'C'), ('N', 'C'), ('B', '<'), ('N', '<'), ('C', 'N')]\n"
     ]
    },
    {
     "data": {
      "text/plain": [
       "['N', 'F', 'FC', 'CC', 'BCBCCBCNCFC']"
      ]
     },
     "execution_count": 39,
     "metadata": {},
     "output_type": "execute_result"
    }
   ],
   "source": [
    "import sigmapie\n",
    "\n",
    "'''\n",
    "Feeding data from my paper into the model here. \n",
    "Since we know that there are no intervening consonants, we can assume they will be filtered out of our tier set, but I'll still include them here to prove this.\n",
    "\n",
    "With this model, I'm hypothesizing that:\n",
    "\n",
    "if (F^+N*):\n",
    "    the closest harmonizing suffix vowel will be front (Fr, N)\n",
    "if (B^+N*):\n",
    "    the closest harmonizing suffix vowel will be back\n",
    "    \n",
    "B, F, N: back, front rounded and front unrounded (neutral), respectively\n",
    "C: consonant\n",
    "'''\n",
    "\n",
    "hu = sigmapie.TSL()\n",
    "hu.data = [\n",
    "    #1\n",
    "    'CNCNCCNC', 'CFCFCCNC', 'NCCNCCNC', 'FCNCCNC',\n",
    "    #2\n",
    "    'CN', 'CF', 'CB', 'CNC', 'CFC', 'CBC',\n",
    "    'CNCNC', 'CFCNC', 'CBCBC',\n",
    "    #4\n",
    "    'BCCBCCBC', 'CNCBCBC', 'CCFCBCCBC',\n",
    "    'FCCCNC', 'CBCFCCNC',\n",
    "    'CNCCCNC', 'CCNCCNC', 'CNCNCCNC',\n",
    "    'CFCNCCNC', 'FCNCNCCNC',\n",
    "    'CBCCNCCBC'\n",
    "    #5\n",
    "    'CBCCNC', 'CBCCBC', 'CBCCB', 'CBCCBCC'\n",
    "    #Extra data??\n",
    "    'CC', 'C', 'CCC', 'NCN', 'BCB', 'FCF', 'NCNCN',\n",
    "    'BCBCBC', 'FCFCFC', 'CBCNCB'\n",
    "]\n",
    "hu.extract_alphabet()\n",
    "hu.learn()\n",
    "\n",
    "print(\"Tier:    \", hu.tier)\n",
    "print(\"Grammar: \", hu.grammar)\n",
    "\n",
    "hu.generate_sample(5, repeat = False)"
   ]
  },
  {
   "cell_type": "code",
   "execution_count": null,
   "id": "a3a5c3c1",
   "metadata": {},
   "outputs": [],
   "source": []
  },
  {
   "cell_type": "code",
   "execution_count": null,
   "id": "ce812bbc",
   "metadata": {},
   "outputs": [],
   "source": []
  }
 ],
 "metadata": {
  "kernelspec": {
   "display_name": "Python 3",
   "language": "python",
   "name": "python3"
  },
  "language_info": {
   "codemirror_mode": {
    "name": "ipython",
    "version": 3
   },
   "file_extension": ".py",
   "mimetype": "text/x-python",
   "name": "python",
   "nbconvert_exporter": "python",
   "pygments_lexer": "ipython3",
   "version": "3.7.11"
  }
 },
 "nbformat": 4,
 "nbformat_minor": 5
}
